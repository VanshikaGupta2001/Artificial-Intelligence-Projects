{
  "nbformat": 4,
  "nbformat_minor": 0,
  "metadata": {
    "colab": {
      "provenance": []
    },
    "kernelspec": {
      "name": "python3",
      "display_name": "Python 3"
    },
    "language_info": {
      "name": "python"
    },
    "accelerator": "GPU",
    "gpuClass": "standard"
  },
  "cells": [
    {
      "cell_type": "markdown",
      "source": [
        "## WEEK 9MDP & MONTE CARLO METHODS"
      ],
      "metadata": {
        "id": "dOMIRi_8tJGe"
      }
    },
    {
      "cell_type": "code",
      "source": [
        "import gym\n",
        "\n",
        "env = gym.make('CliffWalking-v0')\n"
      ],
      "metadata": {
        "id": "1KCSGNawwVkU"
      },
      "execution_count": 13,
      "outputs": []
    },
    {
      "cell_type": "code",
      "source": [
        "import numpy as np\n",
        "\n",
        "# Define the number of episodes and the learning rate\n",
        "num_episodes = 500\n",
        "alpha = 0.1\n",
        "\n",
        "# Initialize the Q-table\n",
        "Q = np.zeros((env.observation_space.n, env.action_space.n))\n",
        "\n",
        "# Define a function to choose an action based on the Q-table and the epsilon-greedy policy\n",
        "def epsilon_greedy(Q, state, epsilon):\n",
        "    if np.random.uniform(0, 1) < epsilon:\n",
        "        action = env.action_space.sample()\n",
        "    else:\n",
        "        action = np.argmax(Q[state, :])\n",
        "    return action\n",
        "\n",
        "# Loop over the episodes\n",
        "# for episode in range(num_episodes):\n",
        "#     state = env.reset()\n",
        "#     done = False\n",
        "#     epsilon = 1.0 / (episode + 1)\n",
        "#     rewards = []\n",
        "#     states = []\n",
        "#     actions = []\n",
        "#     # Play the episode until termination\n",
        "#     while not done:\n",
        "#         action = epsilon_greedy(Q, state, epsilon)\n",
        "#         next_state, reward, done, _ = env.step(action)\n",
        "#         rewards.append(reward)\n",
        "#         states.append(state)\n",
        "#         actions.append(action)\n",
        "#         state = next_state\n",
        "#     # Update the Q-table based on the episode\n",
        "#     G = 0\n",
        "#     for t in reversed(range(len(states))):\n",
        "#         state = states[t]\n",
        "#         action = actions[t]\n",
        "#         reward = rewards[t]\n",
        "#         G = alpha * (G + reward - Q[state, action])\n",
        "#         Q[state, action] += G\n",
        "for episode in range(num_episodes):\n",
        "    state = env.reset()\n",
        "    done = False\n",
        "    epsilon = 1.0 / (episode + 1)\n",
        "    rewards = []\n",
        "    states = []\n",
        "    actions = []\n",
        "    # Play the episode until termination\n",
        "    while not done:\n",
        "        action = epsilon_greedy(Q, state, epsilon)\n",
        "        next_state, reward, done, _ = env.step(action)\n",
        "        rewards.append(reward)\n",
        "        states.append(state)\n",
        "        actions.append(action)\n",
        "        state = next_state\n",
        "    # Compute the discounted returns for each time step in the episode\n",
        "    returns = np.zeros(len(rewards))\n",
        "    G = 0\n",
        "    for t in reversed(range(len(rewards))):\n",
        "        G = rewards[t] + 0.99 * G\n",
        "        returns[t] = G\n",
        "    # Update the Q-table based on the episode\n",
        "    states = np.array(states)\n",
        "    actions = np.array(actions)\n",
        "    returns = np.array(returns)\n",
        "    Q[states, actions] += alpha * (returns - Q[states, actions])\n"
      ],
      "metadata": {
        "id": "4o_7D9SZ9zOk"
      },
      "execution_count": 14,
      "outputs": []
    },
    {
      "cell_type": "code",
      "source": [
        "state = env.reset()\n",
        "done = False\n",
        "steps = 0\n",
        "while not done:\n",
        "    action = np.argmax(Q[state, :])\n",
        "    state, reward, done, _ = env.step(action)\n",
        "    steps += 1\n",
        "print(\"Number of steps to reach the goal state:\", steps)\n"
      ],
      "metadata": {
        "colab": {
          "base_uri": "https://localhost:8080/"
        },
        "id": "i5RzvCXs91H4",
        "outputId": "000cb35d-3d04-40e3-9263-9918320d03d7"
      },
      "execution_count": 17,
      "outputs": [
        {
          "output_type": "stream",
          "name": "stdout",
          "text": [
            "Number of steps to reach the goal state: 17\n"
          ]
        }
      ]
    },
    {
      "cell_type": "code",
      "source": [
        "print(\"Number of episodes needed to learn the optimal policy:\", num_episodes)\n"
      ],
      "metadata": {
        "colab": {
          "base_uri": "https://localhost:8080/"
        },
        "id": "qrINl5UG-q0C",
        "outputId": "8d79aab2-3f8d-438b-918a-77418ab4dcdd"
      },
      "execution_count": 18,
      "outputs": [
        {
          "output_type": "stream",
          "name": "stdout",
          "text": [
            "Number of episodes needed to learn the optimal policy: 500\n"
          ]
        }
      ]
    },
    {
      "cell_type": "markdown",
      "source": [
        "### On-policy first-visit MC control (for Ɛ-soft policies),for Ɛ= 0.1\n"
      ],
      "metadata": {
        "id": "faKpgXp8ACuG"
      }
    },
    {
      "cell_type": "code",
      "source": [
        "import gym\n",
        "import numpy as np\n",
        "\n",
        "env = gym.make('CliffWalking-v0')\n",
        "\n",
        "# set up the hyperparameters\n",
        "num_episodes = 100\n",
        "epsilon = 0.1\n",
        "gamma = 1.0  # discount factor\n",
        "alpha = 0.1  # step size\n",
        "\n",
        "# initialize Q table and N table\n",
        "Q = np.zeros((env.observation_space.n, env.action_space.n))\n",
        "N = np.zeros((env.observation_space.n, env.action_space.n))\n",
        "\n",
        "# define epsilon-greedy policy\n",
        "def epsilon_greedy_policy(Q, state, epsilon):\n",
        "    if np.random.uniform(0, 1) < epsilon:\n",
        "        # choose a random action\n",
        "        action = env.action_space.sample()\n",
        "    else:\n",
        "        # choose the action with maximum Q-value\n",
        "        action = np.argmax(Q[state])\n",
        "    return action\n",
        "\n",
        "# iterate over episodes\n",
        "for i in range(num_episodes):\n",
        "    episode = []\n",
        "    state = env.reset()\n",
        "    done = False\n",
        "    \n",
        "    # generate an episode\n",
        "    while not done:\n",
        "        action = epsilon_greedy_policy(Q, state, epsilon)\n",
        "        next_state, reward, done, _ = env.step(action)\n",
        "        episode.append((state, action, reward))\n",
        "        state = next_state\n",
        "    \n",
        "    # update Q table using first-visit MC method\n",
        "    G = 0\n",
        "    states, actions, rewards = zip(*episode)\n",
        "    discounts = np.power(gamma, range(len(rewards)))\n",
        "    returns = np.cumsum(rewards[::-1])[::-1]\n",
        "    for t, state in enumerate(states):\n",
        "        action = actions[t]\n",
        "        if (state, action) not in episode[:t]:\n",
        "            N[state][action] += 1\n",
        "            alpha = 1.0 / N[state][action]\n",
        "            Q[state][action] += alpha * (np.dot(discounts[t:], returns[t:]) - Q[state][action])\n",
        "        \n",
        "# evaluate the learned policy\n",
        "state = env.reset()\n",
        "steps = 0\n",
        "done = False\n",
        "while not done:\n",
        "    action = np.argmax(Q[state])\n",
        "    next_state, reward, done, _ = env.step(action)\n",
        "    state = next_state\n",
        "    steps += 1\n",
        "\n",
        "print(\"Number of steps needed to learn optimal policy:\", steps)\n",
        "print(\"Number of episodes:\", num_episodes)\n"
      ],
      "metadata": {
        "colab": {
          "base_uri": "https://localhost:8080/"
        },
        "id": "cFEx6zVxkliC",
        "outputId": "0ab497f6-ac60-4204-99ee-63cdc59b79ac"
      },
      "execution_count": null,
      "outputs": [
        {
          "output_type": "stream",
          "name": "stderr",
          "text": [
            "/usr/local/lib/python3.9/dist-packages/gym/core.py:317: DeprecationWarning: \u001b[33mWARN: Initializing wrapper in old step API which returns one bool instead of two. It is recommended to set `new_step_api=True` to use new step API. This will be the default behaviour in future.\u001b[0m\n",
            "  deprecation(\n",
            "/usr/local/lib/python3.9/dist-packages/gym/wrappers/step_api_compatibility.py:39: DeprecationWarning: \u001b[33mWARN: Initializing environment in old step API which returns one bool instead of two. It is recommended to set `new_step_api=True` to use new step API. This will be the default behaviour in future.\u001b[0m\n",
            "  deprecation(\n"
          ]
        }
      ]
    },
    {
      "cell_type": "code",
      "source": [],
      "metadata": {
        "id": "UsyAGvO6kl6M"
      },
      "execution_count": null,
      "outputs": []
    }
  ]
}