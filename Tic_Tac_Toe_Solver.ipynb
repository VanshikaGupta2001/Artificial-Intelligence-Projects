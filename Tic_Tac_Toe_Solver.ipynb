{
  "cells": [
    {
      "cell_type": "markdown",
      "source": [
        "Write a python program to define and implement a tic—tac-toe game with one human player. Solve the game using the built in algorithms and compare the solutions. \n",
        "\n",
        "a. Iterative deepening \n",
        "\n",
        "b. Depth first search\n"
      ],
      "metadata": {
        "id": "UeeXV_LT27RS"
      }
    },
    {
      "cell_type": "code",
      "source": [
        "!pip install easyAI"
      ],
      "outputs": [
        {
          "output_type": "stream",
          "name": "stdout",
          "text": "Looking in indexes: https://pypi.org/simple, https://us-python.pkg.dev/colab-wheels/public/simple/\nRequirement already satisfied: easyAI in /usr/local/lib/python3.8/dist-packages (2.0.12)\nRequirement already satisfied: numpy in /usr/local/lib/python3.8/dist-packages (from easyAI) (1.22.4)\n"
        }
      ],
      "execution_count": 6,
      "metadata": {
        "colab": {
          "base_uri": "https://localhost:8080/",
          "height": 0
        },
        "id": "WKmsgTrTVKqh",
        "outputId": "fd9a141a-78bb-4cd9-fe51-9ba45d89d117"
      }
    },
    {
      "cell_type": "code",
      "source": [
        "from easyAI import TwoPlayerGame\n",
        "from easyAI.Player import Human_Player\n",
        "\n",
        "\n",
        "class TicTacToe(TwoPlayerGame):\n",
        "    \"\"\"The board positions are numbered as follows:\n",
        "    1 2 3\n",
        "    4 5 6\n",
        "    7 8 9\n",
        "    \"\"\"\n",
        "\n",
        "    def __init__(self, players):\n",
        "        self.players = players\n",
        "        self.board = [0 for i in range(9)]\n",
        "        self.current_player = 1  # player 1 starts.\n",
        "\n",
        "    def possible_moves(self):\n",
        "        return [i + 1 for i, e in enumerate(self.board) if e == 0]\n",
        "\n",
        "    def make_move(self, move):\n",
        "        self.board[int(move) - 1] = self.current_player\n",
        "\n",
        "    def unmake_move(self, move):  # optional method (speeds up the AI)\n",
        "        self.board[int(move) - 1] = 0\n",
        "\n",
        "    def lose(self):\n",
        "        \"\"\" Has the opponent \"three in line ?\" \"\"\"\n",
        "        return any(\n",
        "            [\n",
        "                all([(self.board[c - 1] == self.opponent_index) for c in line])\n",
        "                for line in [\n",
        "                    [1, 2, 3],\n",
        "                    [4, 5, 6],\n",
        "                    [7, 8, 9],  # horiz.\n",
        "                    [1, 4, 7],\n",
        "                    [2, 5, 8],\n",
        "                    [3, 6, 9],  # vertical\n",
        "                    [1, 5, 9],\n",
        "                    [3, 5, 7],\n",
        "                ]\n",
        "            ]\n",
        "        )  # diagonal\n",
        "\n",
        "    def is_over(self):\n",
        "        return (self.possible_moves() == []) or self.lose()\n",
        "\n",
        "    def show(self):\n",
        "        print(\n",
        "            \"\\n\"\n",
        "            + \"\\n\".join(\n",
        "                [\n",
        "                    \" \".join([[\".\", \"O\", \"X\"][self.board[3 * j + i]] for i in range(3)])\n",
        "                    for j in range(3)\n",
        "                ]\n",
        "            )\n",
        "        )\n",
        "\n",
        "    def scoring(self):\n",
        "        return -100 if self.lose() else 0\n"
      ],
      "outputs": [],
      "execution_count": 7,
      "metadata": {
        "id": "q7ADsD5qKoka"
      }
    },
    {
      "cell_type": "code",
      "source": [
        "from easyAI import Negamax,AI_Player\n",
        "ai_algo = Negamax(6)\n",
        "TicTacToe( [Human_Player(), AI_Player(ai_algo)]).play()"
      ],
      "outputs": [
        {
          "output_type": "stream",
          "name": "stdout",
          "text": "\n. . .\n. . .\n. . .\n\nPlayer 1 what do you play ? 5\n\nMove #1: player 1 plays 5 :\n\n. . .\n. O .\n. . .\n\nMove #2: player 2 plays 1 :\n\nX . .\n. O .\n. . .\n\nPlayer 1 what do you play ? 6\n\nMove #3: player 1 plays 6 :\n\nX . .\n. O O\n. . .\n\nMove #4: player 2 plays 4 :\n\nX . .\nX O O\n. . .\n\nPlayer 1 what do you play ? 7\n\nMove #5: player 1 plays 7 :\n\nX . .\nX O O\nO . .\n\nMove #6: player 2 plays 3 :\n\nX . X\nX O O\nO . .\n\nPlayer 1 what do you play ? 2\n\nMove #7: player 1 plays 2 :\n\nX O X\nX O O\nO . .\n\nMove #8: player 2 plays 8 :\n\nX O X\nX O O\nO X .\n\nPlayer 1 what do you play ? 9\n\nMove #9: player 1 plays 9 :\n\nX O X\nX O O\nO X O\n"
        },
        {
          "output_type": "execute_result",
          "execution_count": 8,
          "data": {
            "text/plain": "[(<__main__.TicTacToe at 0x7fe1c46daa00>, 5),\n (<__main__.TicTacToe at 0x7fe1c46daa60>, 1),\n (<__main__.TicTacToe at 0x7fe1c46dab80>, 6),\n (<__main__.TicTacToe at 0x7fe1c470f640>, 4),\n (<__main__.TicTacToe at 0x7fe1c46dac40>, 7),\n (<__main__.TicTacToe at 0x7fe1c470fa30>, 3),\n (<__main__.TicTacToe at 0x7fe1c470fd30>, 2),\n (<__main__.TicTacToe at 0x7fe1c470fdf0>, 8),\n (<__main__.TicTacToe at 0x7fe1c470fbe0>, 9),\n <__main__.TicTacToe at 0x7fe1c470d2e0>]"
          },
          "metadata": {}
        }
      ],
      "execution_count": 8,
      "metadata": {
        "colab": {
          "base_uri": "https://localhost:8080/",
          "height": 0
        },
        "id": "AEwjK4LxRETS",
        "outputId": "6e04e945-d990-40a8-a266-d8f216093ecb"
      }
    },
    {
      "cell_type": "markdown",
      "source": [
        "#### Iterative Deepening"
      ],
      "metadata": {
        "id": "8_LZgkkPRXMm"
      }
    },
    {
      "cell_type": "code",
      "source": [
        "from easyAI import solve_with_depth_first_search, solve_with_iterative_deepening\n",
        "\n",
        "result, depth, ai_move = solve_with_iterative_deepening(TicTacToe([Human_Player(), AI_Player(ai_algo)]), [6,7,8,9,10], 100, verbose=True)"
      ],
      "outputs": [
        {
          "output_type": "stream",
          "name": "stdout",
          "text": "d:6, a:0, m:1\nd:7, a:0, m:1\nd:8, a:0, m:1\nd:9, a:0, m:1\nd:10, a:0, m:1\n"
        }
      ],
      "execution_count": 9,
      "metadata": {
        "id": "ZVz4ne8cVMZx",
        "colab": {
          "base_uri": "https://localhost:8080/",
          "height": 0
        },
        "outputId": "6eaef4f3-e327-489c-fc04-c2d5c63fd414"
      }
    },
    {
      "cell_type": "markdown",
      "source": [
        "#### Depth First Search"
      ],
      "metadata": {
        "id": "k7TOIxmPRdm_"
      }
    },
    {
      "cell_type": "code",
      "source": [
        "result = solve_with_depth_first_search(TicTacToe( [AI_Player(ai_algo), AI_Player(ai_algo)]), 200)\n",
        "result"
      ],
      "outputs": [
        {
          "output_type": "execute_result",
          "execution_count": 10,
          "data": {
            "text/plain": "0"
          },
          "metadata": {}
        }
      ],
      "execution_count": 10,
      "metadata": {
        "colab": {
          "base_uri": "https://localhost:8080/",
          "height": 0
        },
        "id": "OFXmi3J0RbTj",
        "outputId": "efe9825f-cc13-494e-bd52-f5b5324cee22"
      }
    },
    {
      "cell_type": "markdown",
      "source": [
        "Inferences:\n",
        "\n",
        "1. We can clearly see that, Iterative deepening provides more information such as result,depth,ai_move but dfs just provides final result 0,-1 or +1 \n",
        "2. DFS can be faster "
      ],
      "metadata": {
        "id": "Ndd_in-JR-8z"
      }
    }
  ],
  "metadata": {
    "colab": {
      "provenance": []
    },
    "kernelspec": {
      "name": "python",
      "language": "python",
      "display_name": "Pyolite (preview)"
    },
    "language_info": {
      "codemirror_mode": {
        "name": "python",
        "version": 3
      },
      "file_extension": ".py",
      "mimetype": "text/x-python",
      "name": "python",
      "nbconvert_exporter": "python",
      "pygments_lexer": "ipython3",
      "version": "3.8"
    },
    "kernel_info": {
      "name": "python"
    },
    "nteract": {
      "version": "nteract-front-end@1.0.0"
    }
  },
  "nbformat": 4,
  "nbformat_minor": 0
}