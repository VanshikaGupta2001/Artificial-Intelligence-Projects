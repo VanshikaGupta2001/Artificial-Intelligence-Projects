{
  "nbformat": 4,
  "nbformat_minor": 0,
  "metadata": {
    "colab": {
      "provenance": []
    },
    "kernelspec": {
      "name": "python3",
      "display_name": "Python 3"
    },
    "language_info": {
      "name": "python"
    }
  },
  "cells": [
    {
      "cell_type": "markdown",
      "source": [
        "**The Game :**\n",
        "\n",
        "According to the “Six Degrees of Kevin Bacon” game, anyone in the Hollywood film \n",
        "industry can be connected to Kevin Bacon within six steps, where each step consists of \n",
        "finding a film that two actors both starred in. To solve the problem, find the shortest path \n",
        "between any two actors by choosing a sequence of movies that connects them. For \n",
        "example, the shortest path between Jennifer Lawrence and Tom Hanks is 2: \n",
        "Jennifer Lawrence is connected to Kevin Bacon by both starring in “X-Men: First \n",
        "Class,” and Kevin Bacon is connected to Tom Hanks by both starring in “Apollo 13.”\n",
        "\n",
        "\n",
        "**Problem Solving Agent:**\n",
        "\n",
        "Given two actors nodes in the graph we need to find the distance (shortest path) \n",
        "between the nodes. \n",
        "\n",
        "\n",
        "Write a python program to determine how many “degrees of separation” apart two \n",
        "actors are. Find the distance or the degree of separation., using \n",
        "* Breadth first search\n",
        "* Depth first search\n"
      ],
      "metadata": {
        "id": "locx7jmK0ig7"
      }
    },
    {
      "cell_type": "markdown",
      "source": [
        "The distribution code contains two sets of CSV data files: one set in the large directory and \n",
        "one set in the small directory. Use the small dataset for ease of testing and \n",
        "experimentation. Each dataset consists of three CSV files.\n",
        "1. small/people.csv: each person has a unique id, corresponding with their id in \n",
        "IMDb’s database. They also have a name, and a birth year.\n",
        "2. small/movies.csv: You’ll see here that each movie also has a unique id, in addition \n",
        "to a title and the year in which the movie was released.\n",
        "3. small/stars.csv: This file establishes a relationship between the people in \n",
        "people.csv and the movies in movies.csv. Each row is a pair of a person_id value \n",
        "and movie_id value. \n",
        "For example: The first row (ignoring the header), for example, states that the person \n",
        "with id 102 starred in the movie with id 104257. Checking that against people.csv and \n",
        "movies.csv, you’ll find that this line is saying that Kevin Bacon starred in the movie “A \n",
        "Few Good Men.”\n",
        "4.degrees.py:\n",
        "At the top, several data structures are defined to store information from the CSV \n",
        "files. The names dictionary is a way to look up a person by their name: it maps names \n",
        "to a set of corresponding ids (because it’s possible that multiple actors have the same \n",
        "name). The people dictionary maps each person’s id to another dictionary with values \n",
        "for the person’s name, birth year, and the set of all the movies they have starred in. \n"
      ],
      "metadata": {
        "id": "hK_GIEmG048R"
      }
    },
    {
      "cell_type": "markdown",
      "source": [
        "And the movies dictionary maps each movie’s id to another dictionary with values for \n",
        "that movie’s title, release year, and the set of all the movie’s stars. The load_data \n",
        "function loads data from the CSV files into these data structures.\n",
        "\n",
        "\n",
        "The main function in this program first loads data into memory (the directory from \n",
        "which the data is loaded can be specified by a command-line argument). Then, the \n",
        "function prompts the user to type in two names. The person_id_for_name function \n",
        "retrieves the id for any person (and handles prompting the user to clarify, in the event \n",
        "that multiple people have the same name). The function then calls the shortest_path \n",
        "function to compute the shortest path between the two people, and prints out the \n",
        "path.\n",
        "\n",
        "\n",
        "The shortest_path function has to be coded using \n",
        "* Breadth First Search\n",
        "* Depth First Search"
      ],
      "metadata": {
        "id": "mmr9avso0_JA"
      }
    },
    {
      "cell_type": "code",
      "execution_count": null,
      "metadata": {
        "id": "hQ6uYx_rIzLI"
      },
      "outputs": [],
      "source": [
        "#Creating Node Class\n",
        "class Node():\n",
        "    def __init__(self, state, parent, action):\n",
        "        self.state = state\n",
        "        self.parent = parent\n",
        "        self.action = action\n",
        "\n",
        "#Creating StackFrontier class\n",
        "class StackFrontier():\n",
        "    def __init__(self):\n",
        "        self.frontier = []\n",
        "\n",
        "    def add(self, node):  #adding the node\n",
        "        self.frontier.append(node)\n",
        "\n",
        "    def contains_state(self, state):\n",
        "        return any(node.state == state for node in self.frontier)\n",
        "\n",
        "    def empty(self):\n",
        "        return len(self.frontier) == 0\n",
        "\n",
        "    def remove(self):   #removing the node\n",
        "        if self.empty():\n",
        "            raise Exception(\"empty frontier\")\n",
        "        else:\n",
        "            node = self.frontier[-1]\n",
        "            self.frontier = self.frontier[:-1]\n",
        "            return node\n",
        "\n",
        "#Creating QueueFrontier class\n",
        "class QueueFrontier(StackFrontier):\n",
        "\n",
        "    def remove(self):\n",
        "        if self.empty():\n",
        "            raise Exception(\"empty frontier\")\n",
        "        else:\n",
        "            node = self.frontier[0]\n",
        "            self.frontier = self.frontier[1:]\n",
        "            return node"
      ]
    },
    {
      "cell_type": "code",
      "source": [
        "import csv\n",
        "import sys"
      ],
      "metadata": {
        "id": "KhGJrQZ0LU7D"
      },
      "execution_count": null,
      "outputs": []
    },
    {
      "cell_type": "code",
      "source": [
        "#Creating dictionary to store the dataset\n",
        "names = {}\n",
        "people = {}\n",
        "movies = {}"
      ],
      "metadata": {
        "id": "YRepwgchN5cK"
      },
      "execution_count": null,
      "outputs": []
    },
    {
      "cell_type": "markdown",
      "source": [
        "**Importing CSV data into adjacency matrix list**"
      ],
      "metadata": {
        "id": "JEz2wzA5hGx0"
      }
    },
    {
      "cell_type": "code",
      "source": [
        "#Load data from CSV files into memory.\n",
        "def load_data(directory):\n",
        "    #Loading people\n",
        "    with open(f\"{directory}/people.csv\", encoding=\"utf-8\") as f:\n",
        "        reader = csv.DictReader(f)\n",
        "        for row in reader:\n",
        "            people[row[\"id\"]] = {\n",
        "                \"name\": row[\"name\"],\n",
        "                \"birth\": row[\"birth\"],\n",
        "                \"movies\": set()\n",
        "            }\n",
        "            if row[\"name\"].lower() not in names:\n",
        "                names[row[\"name\"].lower()] = {row[\"id\"]}\n",
        "            else:\n",
        "                names[row[\"name\"].lower()].add(row[\"id\"])\n",
        "\n",
        "    #Loading movies\n",
        "    with open(f\"{directory}/movies.csv\", encoding=\"utf-8\") as f:\n",
        "        reader = csv.DictReader(f)\n",
        "        for row in reader:\n",
        "            movies[row[\"id\"]] = {\n",
        "                \"title\": row[\"title\"],\n",
        "                \"year\": row[\"year\"],\n",
        "                \"stars\": set()\n",
        "            }\n",
        "\n",
        "    #Loading stars\n",
        "    with open(f\"{directory}/stars.csv\", encoding=\"utf-8\") as f:\n",
        "        reader = csv.DictReader(f)\n",
        "        for row in reader:\n",
        "            try:\n",
        "                people[row[\"person_id\"]][\"movies\"].add(row[\"movie_id\"])\n",
        "                movies[row[\"movie_id\"]][\"stars\"].add(row[\"person_id\"])\n",
        "            except KeyError:\n",
        "                pass"
      ],
      "metadata": {
        "id": "Ie4NU8OrOJEJ"
      },
      "execution_count": null,
      "outputs": []
    },
    {
      "cell_type": "markdown",
      "source": [
        "**Breadth First Search Main Function**"
      ],
      "metadata": {
        "id": "UkVrdySYiS_9"
      }
    },
    {
      "cell_type": "code",
      "source": [
        "#defining the main function   \n",
        "def main():\n",
        "    \n",
        "    directory = sys.argv[1] if len(sys.argv) == 2 else \"large\"\n",
        "\n",
        "    # Load data from files into memory\n",
        "    print(\"Loading data...\")\n",
        "    load_data(directory)\n",
        "    print(\"Data loaded.\")\n",
        "\n",
        "    source = person_id_for_name(input(\"Name: \"))\n",
        "    if source is None:\n",
        "        sys.exit(\"Person not found.\")\n",
        "    target = person_id_for_name(input(\"Name: \"))\n",
        "    if target is None:\n",
        "        sys.exit(\"Person not found.\")\n",
        "\n",
        "    path = shortest_path_bfs(source, target)\n",
        "\n",
        "    if path is None:\n",
        "        print(\"Not connected.\")\n",
        "    else:\n",
        "        degrees = len(path)\n",
        "        print(f\"{degrees} degrees of separation.\")\n",
        "        path = [(None, source)] + path\n",
        "        for i in range(degrees):\n",
        "            person1 = people[path[i][1]][\"name\"]\n",
        "            person2 = people[path[i + 1][1]][\"name\"]\n",
        "            movie = movies[path[i + 1][0]][\"title\"]\n",
        "            print(f\"{i + 1}: {person1} and {person2} starred in {movie}\")\n"
      ],
      "metadata": {
        "id": "LPZFG4PJZc_N"
      },
      "execution_count": null,
      "outputs": []
    },
    {
      "cell_type": "markdown",
      "source": [
        "**Shortest Path BFS**"
      ],
      "metadata": {
        "id": "mC0FXc6wiYP0"
      }
    },
    {
      "cell_type": "code",
      "source": [
        "def shortest_path_bfs(source, target):\n",
        "    \"\"\"\n",
        "    Returns the shortest list of (movie_id, person_id) pairs\n",
        "    that connect the source to the target.\n",
        "    If no possible path, returns None.\n",
        "    \"\"\"\n",
        "\n",
        "    solution = list()\n",
        "    explored = set()\n",
        "\n",
        "    solution_found = False\n",
        "    empty = False\n",
        "\n",
        "    start = Node(state=source, parent=None, action=None)\n",
        "    frontier = QueueFrontier()\n",
        "    frontier.add(start)\n",
        "\n",
        "    while not solution_found:\n",
        "        if frontier.empty():\n",
        "            solution_found = True\n",
        "            empty = True\n",
        "        \n",
        "        # Choose a node from frontier\n",
        "        node = frontier.remove()\n",
        "\n",
        "        # If node is the target, then we have a solution\n",
        "        if node.state == target:\n",
        "            solution_found = True\n",
        "            while node.parent is not None:\n",
        "                pid, mid = node.state, node.action\n",
        "                solution.append((mid, pid))\n",
        "                node = node.parent\n",
        "            solution.reverse()\n",
        "\n",
        "        # Mark node as explored\n",
        "        explored.add(node)\n",
        "        neighbors = neighbors_for_person(node.state)\n",
        "\n",
        "        for neighbor in neighbors:\n",
        "            child = Node(state=neighbor[1], action=neighbor[0], parent=node)\n",
        "            # Add neighbor to frontier\n",
        "            frontier.add(child)\n",
        "\n",
        "            # If any child node from neighbors is the target, then we have a solution\n",
        "            if child.state == target:\n",
        "                solution_found = True\n",
        "                while child.parent is not None:\n",
        "                    pid, mid = child.state, child.action\n",
        "                    solution.append((mid, pid))\n",
        "                    child = child.parent\n",
        "                solution.reverse()\n",
        "\n",
        "    if solution_found:\n",
        "        if empty:\n",
        "            return None\n",
        "        return solution"
      ],
      "metadata": {
        "id": "nkPsnUvGaHQt"
      },
      "execution_count": null,
      "outputs": []
    },
    {
      "cell_type": "code",
      "source": [
        "def person_id_for_name(name):\n",
        "    \"\"\"\n",
        "    Returns the IMDB id for a person's name,\n",
        "    resolving ambiguities as needed.\n",
        "    \"\"\"\n",
        "    person_ids = list(names.get(name.lower(), set()))\n",
        "    if len(person_ids) == 0:\n",
        "        return None\n",
        "    elif len(person_ids) > 1:\n",
        "        print(f\"Which '{name}'?\")\n",
        "        for person_id in person_ids:\n",
        "            person = people[person_id]\n",
        "            name = person[\"name\"]\n",
        "            birth = person[\"birth\"]\n",
        "            print(f\"ID: {person_id}, Name: {name}, Birth: {birth}\")\n",
        "        try:\n",
        "            person_id = input(\"Intended Person ID: \")\n",
        "            if person_id in person_ids:\n",
        "                return person_id\n",
        "        except ValueError:\n",
        "            pass\n",
        "        return None\n",
        "    else:\n",
        "        return person_ids[0]"
      ],
      "metadata": {
        "id": "WI5-nsAWaLIc"
      },
      "execution_count": null,
      "outputs": []
    },
    {
      "cell_type": "code",
      "source": [
        "def neighbors_for_person(person_id):\n",
        "    \"\"\"\n",
        "    Returns (movie_id, person_id) pairs for people\n",
        "    who starred with a given person.\n",
        "    \"\"\"\n",
        "    movie_ids = people[person_id][\"movies\"]\n",
        "    neighbors = set()\n",
        "    for movie_id in movie_ids:\n",
        "        for person_id in movies[movie_id][\"stars\"]:\n",
        "            neighbors.add((movie_id, person_id))\n",
        "    return neighbors\n"
      ],
      "metadata": {
        "id": "l90jqXF6a8oG"
      },
      "execution_count": null,
      "outputs": []
    },
    {
      "cell_type": "code",
      "source": [
        "if __name__ == \"__main__\":\n",
        "    main()"
      ],
      "metadata": {
        "colab": {
          "base_uri": "https://localhost:8080/"
        },
        "id": "T5cyOtAOGa8l",
        "outputId": "d7e43de7-5ebe-4348-fbcd-2649b2efe674"
      },
      "execution_count": null,
      "outputs": [
        {
          "output_type": "stream",
          "name": "stdout",
          "text": [
            "Loading data...\n",
            "Data loaded.\n",
            "Name: Tom Hanks\n",
            "Name: Tom Cruise\n",
            "2 degrees of separation.\n",
            "1: Tom Hanks and Max von Sydow starred in Extremely Loud & Incredibly Close\n",
            "2: Max von Sydow and Tom Cruise starred in Minority Report\n"
          ]
        }
      ]
    },
    {
      "cell_type": "markdown",
      "source": [
        "**Depth First Search Shortest Path Function**"
      ],
      "metadata": {
        "id": "xUga40b-idP4"
      }
    },
    {
      "cell_type": "code",
      "source": [
        "def shortest_path_dfs(source, target):\n",
        "    \"\"\"\n",
        "    Returns the shortest list of (movie_id, person_id) pairs\n",
        "    that connect the source to the target.\n",
        "\n",
        "    If no possible path, returns None.\n",
        "    \"\"\"\n",
        "    count_explored = 0\n",
        "    print(f\"Searching: {count_explored}\", end=\"\", flush=True)\n",
        "\n",
        "    # Initiate starting node and frontier\n",
        "    start = Node(state=source, parent=None, action=None)\n",
        "    frontier = StackFrontier()\n",
        "    frontier.add(start)\n",
        "\n",
        "    explored = set()\n",
        "\n",
        "    while True:\n",
        "        if frontier.empty(): # If frontier is empty, then no solution\n",
        "            print()\n",
        "            return None\n",
        "        \n",
        "        # Checkout node from frontier\n",
        "        node = frontier.remove()\n",
        "\n",
        "        # Update count\n",
        "        count_explored += 1\n",
        "        print(f\"\\rSearching: {count_explored}\", end=\"\", flush=True)            \n",
        "\n",
        "        # Mark node as explored\n",
        "        explored.add(node.state)\n",
        "\n",
        "        # Add neighbors to frontier\n",
        "        for action, state in neighbors_for_person(node.state):\n",
        "            if not frontier.contains_state(state) and state not in explored:\n",
        "                child = Node(state=state, parent=node, action=action)\n",
        "\n",
        "                # If child is the target, get solution\n",
        "                if child.state == target:\n",
        "                    node = child\n",
        "                    solution = []\n",
        "\n",
        "                    # Loop backwards to find solution\n",
        "                    while node.parent is not None:\n",
        "                        solution.append((node.action, node.state))\n",
        "                        node = node.parent\n",
        "                    # print newline\n",
        "                    print()\n",
        "\n",
        "                    # return reversed list\n",
        "                    return solution[::-1]\n",
        "                else:\n",
        "                    frontier.add(child)\n",
        "\n",
        "    # TODO\n",
        "    raise NotImplementedError\n"
      ],
      "metadata": {
        "id": "dqrxrCsWUFRf"
      },
      "execution_count": null,
      "outputs": []
    },
    {
      "cell_type": "markdown",
      "source": [
        "**DFS Main Function**"
      ],
      "metadata": {
        "id": "SxcNSGP4ijUM"
      }
    },
    {
      "cell_type": "code",
      "source": [
        "def main1():\n",
        "    \n",
        "    directory = sys.argv[1] if len(sys.argv) == 2 else \"large\"\n",
        "\n",
        "    # Load data from files into memory\n",
        "    print(\"Loading data...\")\n",
        "    load_data(directory)\n",
        "    print(\"Data loaded.\")\n",
        "\n",
        "    source = person_id_for_name(input(\"Name: \"))\n",
        "    if source is None:\n",
        "        sys.exit(\"Person not found.\")\n",
        "    target = person_id_for_name(input(\"Name: \"))\n",
        "    if target is None:\n",
        "        sys.exit(\"Person not found.\")\n",
        "\n",
        "    path = shortest_path_dfs(source, target)\n",
        "\n",
        "    if path is None:\n",
        "        print(\"Not connected.\")\n",
        "    else:\n",
        "        degrees = len(path)\n",
        "        print(f\"{degrees} degrees of separation.\")\n",
        "        path = [(None, source)] + path\n",
        "        for i in range(degrees):\n",
        "            person1 = people[path[i][1]][\"name\"]\n",
        "            person2 = people[path[i + 1][1]][\"name\"]\n",
        "            movie = movies[path[i + 1][0]][\"title\"]\n",
        "            print(f\"{i + 1}: {person1} and {person2} starred in {movie}\")\n"
      ],
      "metadata": {
        "id": "Esq95elzf8As"
      },
      "execution_count": null,
      "outputs": []
    },
    {
      "cell_type": "code",
      "source": [
        "if __name__ == \"__main__\":\n",
        "    main1()"
      ],
      "metadata": {
        "colab": {
          "base_uri": "https://localhost:8080/"
        },
        "id": "0hkvmTWUgBR7",
        "outputId": "ad84ac78-3c88-4678-aad3-6bfb99a9993f"
      },
      "execution_count": null,
      "outputs": [
        {
          "output_type": "stream",
          "name": "stdout",
          "text": [
            "Loading data...\n",
            "Data loaded.\n",
            "Name: Tom Hanks\n",
            "Name: Tom Cruise\n",
            "Searching: 6\n",
            "6 degrees of separation.\n",
            "1: Tom Hanks and Wendy Makkena starred in A Beautiful Day in the Neighborhood\n",
            "2: Wendy Makkena and Bradley Whitford starred in The People\n",
            "3: Bradley Whitford and Katie Holmes starred in A Happening of Monumental Proportions\n",
            "4: Katie Holmes and Ryan Reynolds starred in Woman in Gold\n",
            "5: Ryan Reynolds and Kevin Costner starred in Criminal\n",
            "6: Kevin Costner and Tom Cruise starred in Close Up\n"
          ]
        }
      ]
    },
    {
      "cell_type": "markdown",
      "source": [
        "**Inference:**\n",
        "\n",
        "On comparing DFS and BFS, we can conclude that the Breadth First Search algorithm is better compared to Depth First Search as in the output we can observe lesser value of degree of separation for BFS as compared to DFS."
      ],
      "metadata": {
        "id": "5NaCWt4ointF"
      }
    },
    {
      "cell_type": "code",
      "source": [],
      "metadata": {
        "id": "fEBZTU1W2pOi"
      },
      "execution_count": null,
      "outputs": []
    }
  ]
}